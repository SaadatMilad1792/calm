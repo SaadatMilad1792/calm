{
 "cells": [
  {
   "cell_type": "code",
   "execution_count": 2,
   "id": "4c5b821f",
   "metadata": {},
   "outputs": [],
   "source": [
    "########################################################################################################################\n",
    "## -- libraries and packages -- ########################################################################################\n",
    "########################################################################################################################\n",
    "import calm\n",
    "\n",
    "########################################################################################################################\n",
    "## -- create text files from csv and load the data as text files -- ####################################################\n",
    "########################################################################################################################\n",
    "data_handler_module = calm.data_handler.DataHandler()\n",
    "path = \"data/dataset/\"\n",
    "\n",
    "data_handler_module.convert_dailydialog_to_txt(path + \"train.csv\", path + \"train.txt\")\n",
    "data_handler_module.convert_dailydialog_to_txt(path + \"test.csv\", path + \"test.txt\")\n",
    "data_handler_module.convert_dailydialog_to_txt(path + \"validation.csv\", path + \"validation.txt\")\n",
    "\n",
    "tr_data = data_handler_module.load_data(path + \"train.txt\")\n",
    "te_data = data_handler_module.load_data(path + \"test.txt\")\n",
    "va_data = data_handler_module.load_data(path + \"validation.txt\")\n",
    "\n",
    "########################################################################################################################\n",
    "## -- setting up the tokenizer vocab and most common pair lists -- #####################################################\n",
    "########################################################################################################################\n",
    "\n",
    "## -- run this if you are generating from scratch (takes around 10 - minutes) -- ##\n",
    "# tokenizer = calm.tokenization.Tokenizer(tr_data)\n",
    "# tokenizer.max_vocab_size = 1024\n",
    "# tokenizer.save_state_path = \"./data/vocab/tokenizer_state.pkl\"\n",
    "# tokenizer.generate_vocab()\n",
    "\n",
    "## -- run this if you are loading what you have already generated (recommended after the first run) -- ##\n",
    "tokenizer = calm.tokenization.Tokenizer()\n",
    "tokenizer.load_state(\"./data/vocab/tokenizer_state.pkl\")"
   ]
  },
  {
   "cell_type": "code",
   "execution_count": 4,
   "id": "22a2837b",
   "metadata": {},
   "outputs": [
    {
     "name": "stdout",
     "output_type": "stream",
     "text": [
      "1000 270\n"
     ]
    }
   ],
   "source": [
    "txt = te_data[:1000]\n",
    "txt_new = tokenizer.encoder(txt)\n",
    "\n",
    "print(len(txt), len(txt_new))"
   ]
  }
 ],
 "metadata": {
  "kernelspec": {
   "display_name": "CompactAiLanguageModel",
   "language": "python",
   "name": "python3"
  },
  "language_info": {
   "codemirror_mode": {
    "name": "ipython",
    "version": 3
   },
   "file_extension": ".py",
   "mimetype": "text/x-python",
   "name": "python",
   "nbconvert_exporter": "python",
   "pygments_lexer": "ipython3",
   "version": "3.11.13"
  }
 },
 "nbformat": 4,
 "nbformat_minor": 5
}
