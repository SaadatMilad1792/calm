{
 "cells": [
  {
   "cell_type": "code",
   "execution_count": 1,
   "id": "83dd0ecf",
   "metadata": {},
   "outputs": [
    {
     "name": "stdout",
     "output_type": "stream",
     "text": [
      "original text length: 1000  |  tokenized length: 270  |  are they identical: True\n"
     ]
    }
   ],
   "source": [
    "########################################################################################################################\n",
    "## -- libraries and packages -- ########################################################################################\n",
    "########################################################################################################################\n",
    "import os\n",
    "import sys\n",
    "import torch\n",
    "sys.path.append(os.path.abspath(\"..\"))\n",
    "import calm\n",
    "\n",
    "########################################################################################################################\n",
    "## -- create text files from csv and load the data as text files -- ####################################################\n",
    "########################################################################################################################\n",
    "data_handler_module = calm.data_handler.DataHandler()\n",
    "path = \"../data/dataset/\"\n",
    "\n",
    "data_handler_module.convert_dailydialog_to_txt(path + \"train.csv\", path + \"train.txt\")\n",
    "data_handler_module.convert_dailydialog_to_txt(path + \"test.csv\", path + \"test.txt\")\n",
    "data_handler_module.convert_dailydialog_to_txt(path + \"validation.csv\", path + \"validation.txt\")\n",
    "\n",
    "tr_data = data_handler_module.load_data(path + \"train.txt\")\n",
    "te_data = data_handler_module.load_data(path + \"test.txt\")\n",
    "va_data = data_handler_module.load_data(path + \"validation.txt\")\n",
    "\n",
    "########################################################################################################################\n",
    "## -- setting up the tokenizer vocab and most common pair lists -- #####################################################\n",
    "########################################################################################################################\n",
    "\n",
    "## -- run this if you are generating from scratch (takes around 10 - minutes) -- ##\n",
    "# tokenizer = calm.tokenization.Tokenizer(tr_data)\n",
    "# tokenizer.max_vocab_size = 1024\n",
    "# tokenizer.save_state_path = \"./data/vocab/tokenizer_state.pkl\"\n",
    "# tokenizer.generate_vocab()\n",
    "\n",
    "## -- run this if you are loading what you have already generated (recommended after the first run) -- ##\n",
    "tokenizer = calm.tokenization.Tokenizer()\n",
    "tokenizer.load_state(\"../data/vocab/tokenizer_state.pkl\")\n",
    "\n",
    "## -- test the vocab to see if it is correct -- ##\n",
    "text = te_data[:1000]\n",
    "tokens = tokenizer.encoder(text)\n",
    "d_text = tokenizer.decoder(tokens)\n",
    "print(\"original text length:\", len(text), \" | \", \"tokenized length:\", len(tokens), \" | \", \"are they identical:\", d_text == text)\n",
    "\n",
    "########################################################################################################################\n",
    "## -- turn everything into tensors -- ##################################################################################\n",
    "########################################################################################################################\n",
    "tr_data = torch.tensor(tokenizer.encoder(tr_data[:1000]))\n",
    "te_data = torch.tensor(tokenizer.encoder(te_data[:1000]))\n",
    "va_data = torch.tensor(tokenizer.encoder(va_data[:1000]))\n"
   ]
  },
  {
   "cell_type": "code",
   "execution_count": 2,
   "id": "1a705b8b",
   "metadata": {},
   "outputs": [
    {
     "name": "stdout",
     "output_type": "stream",
     "text": [
      "tr_loss: 7.4563, va_loss: 7.3846, te_loss: 7.4378\n"
     ]
    }
   ],
   "source": [
    "params = {\n",
    "  \"val_iter\": 1,\n",
    "  \"val_freq\": 1,\n",
    "  \"save_path\": \"../weights/\",\n",
    "  \"num_heads\": 4, \n",
    "  \"model_embd\": 256, \n",
    "  \"vocab_size\": len(tokenizer.vocab.items()), \n",
    "  \"batch_size\": 64,\n",
    "  \"block_size\": 256,\n",
    "  \"hidden\": 64,\n",
    "  \"dropout_p\": 0.1,\n",
    "  \"num_layers\": 2\n",
    "}\n",
    "\n",
    "data = {\"tr\": tr_data, \"te\": te_data, \"va\": va_data}\n",
    "model = calm.CompactAiLanguageModel(parameters = params)\n",
    "optimizer = torch.optim.AdamW(model.parameters(), lr = 1e-3)\n",
    "model.train(data, optimizer, epochs = 1)"
   ]
  },
  {
   "cell_type": "code",
   "execution_count": 6,
   "id": "419c92f2",
   "metadata": {},
   "outputs": [
    {
     "name": "stdout",
     "output_type": "stream",
     "text": [
      "<speaker1> Hello, I am Bean, who are you ?\n",
      "Can you . I�es we��That's tion �viurlly dones , well gh\u000e\n",
      "<speaker2> if ld \u001etake ary ite hat ecapp�abseeks �ere ]nuciget two hat's ms venW\u0002�3ence .\n",
      "<speaker2> You for a give worear love �Whbo�ea' ftoday �or �b nd \u001dort ouncourroom ed to I'm today \u0013�will be �\u0016. It's 00 Please �1> will be good �meaIt's \u0001would you genew 's thother �why \u0010h lly ways \u0015Oh , pgoing to ace his �one two a good est 't sh 4ble �ight happ\u001ejust . It cause ounad?\n",
      "<speaker1> ally ellfor the good ey buy .\n",
      "<speaker1> Thort is ga�/Pff�. You back inweek ��?\n",
      "<speaker1> �lo\n",
      "\n",
      "<speaker1> sir �ttdown *esgu�ough able llay �ect . Th�for you , the with Can I'�two lust that |ut . We not going intereslove pay \n",
      "<speaker1> s \u0012work �!\n",
      "\n",
      "<speaker1> Chinalv\u0002Well , asmound . The \n"
     ]
    }
   ],
   "source": [
    "model = calm.CompactAiLanguageModel(parameters = params)\n",
    "model.load_weights(path = \"../weights/weights.pth\")\n",
    "X = torch.tensor([tokenizer.encoder(\"<speaker1> Hello, I am Bean, who are you ?\\n\")])\n",
    "print(tokenizer.decoder(model.generate(X, 200).tolist()[0]))"
   ]
  }
 ],
 "metadata": {
  "kernelspec": {
   "display_name": "CompactAiLanguageModel",
   "language": "python",
   "name": "python3"
  },
  "language_info": {
   "codemirror_mode": {
    "name": "ipython",
    "version": 3
   },
   "file_extension": ".py",
   "mimetype": "text/x-python",
   "name": "python",
   "nbconvert_exporter": "python",
   "pygments_lexer": "ipython3",
   "version": "3.11.13"
  }
 },
 "nbformat": 4,
 "nbformat_minor": 5
}
