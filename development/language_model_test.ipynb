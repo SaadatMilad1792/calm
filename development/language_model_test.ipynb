{
 "cells": [
  {
   "cell_type": "code",
   "execution_count": 1,
   "id": "83dd0ecf",
   "metadata": {},
   "outputs": [
    {
     "name": "stdout",
     "output_type": "stream",
     "text": [
      "original text length: 1000  |  tokenized length: 270  |  are they identical: True\n"
     ]
    }
   ],
   "source": [
    "########################################################################################################################\n",
    "## -- libraries and packages -- ########################################################################################\n",
    "########################################################################################################################\n",
    "import os\n",
    "import sys\n",
    "import torch\n",
    "sys.path.append(os.path.abspath(\"..\"))\n",
    "import calm\n",
    "\n",
    "########################################################################################################################\n",
    "## -- create text files from csv and load the data as text files -- ####################################################\n",
    "########################################################################################################################\n",
    "data_handler_module = calm.data_handler.DataHandler()\n",
    "path = \"../data/dataset/\"\n",
    "\n",
    "data_handler_module.convert_dailydialog_to_txt(path + \"train.csv\", path + \"train.txt\")\n",
    "data_handler_module.convert_dailydialog_to_txt(path + \"test.csv\", path + \"test.txt\")\n",
    "data_handler_module.convert_dailydialog_to_txt(path + \"validation.csv\", path + \"validation.txt\")\n",
    "\n",
    "tr_data = data_handler_module.load_data(path + \"train.txt\")\n",
    "te_data = data_handler_module.load_data(path + \"test.txt\")\n",
    "va_data = data_handler_module.load_data(path + \"validation.txt\")\n",
    "\n",
    "########################################################################################################################\n",
    "## -- setting up the tokenizer vocab and most common pair lists -- #####################################################\n",
    "########################################################################################################################\n",
    "\n",
    "## -- run this if you are generating from scratch (takes around 10 - minutes) -- ##\n",
    "# tokenizer = calm.tokenization.Tokenizer(tr_data)\n",
    "# tokenizer.max_vocab_size = 1024\n",
    "# tokenizer.save_state_path = \"./data/vocab/tokenizer_state.pkl\"\n",
    "# tokenizer.generate_vocab()\n",
    "\n",
    "## -- run this if you are loading what you have already generated (recommended after the first run) -- ##\n",
    "tokenizer = calm.tokenization.Tokenizer()\n",
    "tokenizer.load_state(\"../data/vocab/tokenizer_state.pkl\")\n",
    "\n",
    "## -- test the vocab to see if it is correct -- ##\n",
    "text = te_data[:1000]\n",
    "tokens = tokenizer.encoder(text)\n",
    "d_text = tokenizer.decoder(tokens)\n",
    "print(\"original text length:\", len(text), \" | \", \"tokenized length:\", len(tokens), \" | \", \"are they identical:\", d_text == text)\n",
    "\n",
    "########################################################################################################################\n",
    "## -- turn everything into tensors -- ##################################################################################\n",
    "########################################################################################################################\n",
    "tr_data = torch.tensor(tokenizer.encoder(tr_data[:1000]))\n",
    "te_data = torch.tensor(tokenizer.encoder(te_data[:1000]))\n",
    "va_data = torch.tensor(tokenizer.encoder(va_data[:1000]))\n"
   ]
  },
  {
   "cell_type": "code",
   "execution_count": 2,
   "id": "1a705b8b",
   "metadata": {},
   "outputs": [
    {
     "name": "stdout",
     "output_type": "stream",
     "text": [
      "tr_loss: 7.4766, va_loss: 7.4169, te_loss: 7.4192\n"
     ]
    }
   ],
   "source": [
    "device = 'cuda' if torch.cuda.is_available() else 'cpu'\n",
    "params = {\n",
    "  \"device\": device,\n",
    "  \"val_iter\": 1,\n",
    "  \"val_freq\": 1,\n",
    "  \"save_path\": \"../weights/\",\n",
    "  \"num_heads\": 4, \n",
    "  \"model_embd\": 256, \n",
    "  \"vocab_size\": len(tokenizer.vocab.items()), \n",
    "  \"batch_size\": 64,\n",
    "  \"block_size\": 256,\n",
    "  \"hidden\": 64,\n",
    "  \"dropout_p\": 0.1,\n",
    "  \"num_layers\": 2\n",
    "}\n",
    "\n",
    "data = {\"tr\": tr_data.to(device), \"te\": te_data.to(device), \"va\": va_data.to(device)}\n",
    "model = calm.CompactAiLanguageModel(parameters = params).to(device)\n",
    "optimizer = torch.optim.AdamW(model.parameters(), lr = 1e-3)\n",
    "model.train(data, optimizer, epochs = 1)"
   ]
  },
  {
   "cell_type": "code",
   "execution_count": 3,
   "id": "419c92f2",
   "metadata": {},
   "outputs": [
    {
     "name": "stdout",
     "output_type": "stream",
     "text": [
      "<speaker1> Hello, I am Bean, who are you ?\n",
      "panight Ex�am �mo\\.\n",
      "<speaker1> Sit's 3ance here ,n �!ose bub what lly ad are \u001c�Nting ally ss ook each . We aystar�? �probmoney rom ank you ��i just buy pe  , to �der mor�self It's stu�elw poguure ?\n",
      "<speaker1> I ll�Dn _many on ed to . We That's ma��age ually las, the ft �1itect ding ir .\n",
      "<speaker2> A�much ere's ay I zpay ! ��finS�did you .\n",
      "<speaker1> Thwhat But \u001cner anks no!\n",
      "<speaker1> I'll Can I \n",
      "much \u000b.r2> problother me sir 're ? . Lhmeserid s\n",
      "<speaker2> W��vi�. Aal epe's I epose ine OKest ce gs make too is before canfood to? I some\u001a\u0006ch ��\u0010great Yeaar Hfore tion J�n't \u0002��meything ting YouDo car+`h , en claset me �end 've et me �ten last �ke�cause \u0004. W\n"
     ]
    }
   ],
   "source": [
    "model = calm.CompactAiLanguageModel(parameters = params)\n",
    "model.load_weights(path = \"../weights/weights.pth\")\n",
    "X = torch.tensor([tokenizer.encoder(\"<speaker1> Hello, I am Bean, who are you ?\\n\")])\n",
    "print(tokenizer.decoder(model.generate(X, 200).tolist()[0]))"
   ]
  }
 ],
 "metadata": {
  "kernelspec": {
   "display_name": "CompactAiLanguageModel",
   "language": "python",
   "name": "python3"
  },
  "language_info": {
   "codemirror_mode": {
    "name": "ipython",
    "version": 3
   },
   "file_extension": ".py",
   "mimetype": "text/x-python",
   "name": "python",
   "nbconvert_exporter": "python",
   "pygments_lexer": "ipython3",
   "version": "3.11.13"
  }
 },
 "nbformat": 4,
 "nbformat_minor": 5
}
