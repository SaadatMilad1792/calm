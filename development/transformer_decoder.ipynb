{
 "cells": [
  {
   "cell_type": "code",
   "execution_count": 1,
   "id": "c8088cfb",
   "metadata": {},
   "outputs": [],
   "source": [
    "########################################################################################################################\n",
    "## -- libraries and packages -- ########################################################################################\n",
    "########################################################################################################################\n",
    "import os\n",
    "import sys\n",
    "import torch\n",
    "sys.path.append(os.path.abspath(\"..\"))\n",
    "from calm import transformer_decoder"
   ]
  },
  {
   "cell_type": "code",
   "execution_count": 2,
   "id": "a3203423",
   "metadata": {},
   "outputs": [
    {
     "data": {
      "text/plain": [
       "(torch.Size([8, 4, 32]), torch.Size([8, 4, 4]))"
      ]
     },
     "execution_count": 2,
     "metadata": {},
     "output_type": "execute_result"
    }
   ],
   "source": [
    "########################################################################################################################\n",
    "## -- testing scaled self attention -- #################################################################################\n",
    "########################################################################################################################\n",
    "attention = transformer_decoder.MultiHeadedAttention(32, 2)\n",
    "q = torch.randn(8, 4, 32)\n",
    "k = torch.randn(8, 4, 32)\n",
    "v = torch.randn(8, 4, 32)\n",
    "a, b = attention.scaled_attention(q, k, v)\n",
    "a.shape, b.shape"
   ]
  },
  {
   "cell_type": "code",
   "execution_count": 3,
   "id": "73127f3b",
   "metadata": {},
   "outputs": [
    {
     "data": {
      "text/plain": [
       "(torch.Size([8, 4, 32]), torch.Size([8, 2, 4, 4]))"
      ]
     },
     "execution_count": 3,
     "metadata": {},
     "output_type": "execute_result"
    }
   ],
   "source": [
    "########################################################################################################################\n",
    "## -- testing scaled self attention -- #################################################################################\n",
    "########################################################################################################################\n",
    "attention = transformer_decoder.MultiHeadedAttention(32, 2)\n",
    "x = torch.randn(8, 4, 32)\n",
    "a, b = attention(x)\n",
    "a.shape, b.shape"
   ]
  },
  {
   "cell_type": "code",
   "execution_count": 4,
   "id": "f150f68f",
   "metadata": {},
   "outputs": [
    {
     "data": {
      "text/plain": [
       "torch.Size([16, 256, 32])"
      ]
     },
     "execution_count": 4,
     "metadata": {},
     "output_type": "execute_result"
    }
   ],
   "source": [
    "########################################################################################################################\n",
    "## -- testing the transformer decoder without cross attention -- #######################################################\n",
    "########################################################################################################################\n",
    "model_emb, num_heads, hidden, dropout_p, num_layers = 32, 4, 64, 0.1, 2\n",
    "decoder = transformer_decoder.TransformerDecoder(model_emb, num_heads, hidden, dropout_p, num_layers)\n",
    "x = torch.randn(16, 256, 32)\n",
    "decoder(x, mask = \"auto\").shape"
   ]
  }
 ],
 "metadata": {
  "kernelspec": {
   "display_name": "CompactAiLanguageModel",
   "language": "python",
   "name": "python3"
  },
  "language_info": {
   "codemirror_mode": {
    "name": "ipython",
    "version": 3
   },
   "file_extension": ".py",
   "mimetype": "text/x-python",
   "name": "python",
   "nbconvert_exporter": "python",
   "pygments_lexer": "ipython3",
   "version": "3.11.13"
  }
 },
 "nbformat": 4,
 "nbformat_minor": 5
}
