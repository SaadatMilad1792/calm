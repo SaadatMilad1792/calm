{
 "cells": [
  {
   "cell_type": "code",
   "execution_count": 1,
   "id": "1bdd2456",
   "metadata": {},
   "outputs": [],
   "source": [
    "########################################################################################################################\n",
    "## -- libraries and packages -- ########################################################################################\n",
    "########################################################################################################################\n",
    "import os\n",
    "import sys\n",
    "sys.path.append(os.path.abspath(\"..\"))\n",
    "from calm import data_handler"
   ]
  },
  {
   "cell_type": "code",
   "execution_count": 2,
   "id": "f1782672",
   "metadata": {},
   "outputs": [],
   "source": [
    "########################################################################################################################\n",
    "## -- testing data handler and generating the text files from csv -- ###################################################\n",
    "########################################################################################################################\n",
    "path = \"../data/dataset/\"\n",
    "data_handler_module = data_handler.DataHandler()\n",
    "data_handler_module.convert_dailydialog_to_txt(path + \"train.csv\", path + \"train.txt\")\n",
    "data_handler_module.convert_dailydialog_to_txt(path + \"test.csv\", path + \"test.txt\")\n",
    "data_handler_module.convert_dailydialog_to_txt(path + \"validation.csv\", path + \"validation.txt\")"
   ]
  },
  {
   "cell_type": "code",
   "execution_count": 15,
   "id": "f20f79ab",
   "metadata": {},
   "outputs": [
    {
     "name": "stdout",
     "output_type": "stream",
     "text": [
      "<speaker1> Say , Jim , how about going for a few beers after dinner ?\n",
      "<speaker2> You know that is tempting but is really not good for our fitness .\n",
      "<speaker1> What do you mean ? It will help us to relax .\n",
      "<speaker2> Do you really think so ? I don't . It will just make us fat and act silly . Remember last time ?\n",
      "<speaker1> I guess you are right.But what shall we do ? I don't feel like sitting at home .\n",
      "<speaker2> I suggest a walk over to the gym where we can play singsong and meet some of our friends .\n",
      "<speaker1> That's a good idea . I hear Mary and Sally often go there to play pingpong.Perhaps we can make a foursome with them .\n",
      "<speaker2> Sounds great to me ! If they are willing , we could ask them to go dancing with us.That is excellent exercise and fun , too .\n",
      "<speaker1> Good.Let ' s go now .\n",
      "<speaker2> All right .\n",
      "\n",
      "\n"
     ]
    }
   ],
   "source": [
    "########################################################################################################################\n",
    "## -- load some text files to test -- ##################################################################################\n",
    "########################################################################################################################\n",
    "tr_data = data_handler_module.load_data(path + \"train.txt\")\n",
    "te_data = data_handler_module.load_data(path + \"test.txt\")\n",
    "va_data = data_handler_module.load_data(path + \"validation.txt\")\n",
    "print(tr_data[:830])"
   ]
  }
 ],
 "metadata": {
  "kernelspec": {
   "display_name": "CompactAiLanguageModel",
   "language": "python",
   "name": "python3"
  },
  "language_info": {
   "codemirror_mode": {
    "name": "ipython",
    "version": 3
   },
   "file_extension": ".py",
   "mimetype": "text/x-python",
   "name": "python",
   "nbconvert_exporter": "python",
   "pygments_lexer": "ipython3",
   "version": "3.11.13"
  }
 },
 "nbformat": 4,
 "nbformat_minor": 5
}
